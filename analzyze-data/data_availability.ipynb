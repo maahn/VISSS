{
 "cells": [
  {
   "cell_type": "code",
   "execution_count": 1,
   "metadata": {},
   "outputs": [],
   "source": [
    "import numpy as np\n",
    "from matplotlib import pyplot as plt\n",
    "import glob\n",
    "import cv2\n",
    "import os\n",
    "\n",
    "import pandas as pd\n",
    "import xarray as xr\n",
    "\n"
   ]
  },
  {
   "cell_type": "code",
   "execution_count": 2,
   "metadata": {},
   "outputs": [],
   "source": [
    "cameras = ['master_S1145792', 'slave_S1143155']\n",
    "path = '/Volumes/VISSS_data_HD1/%s_data/mosaic/visss%i_visss_%s/data/'"
   ]
  },
  {
   "cell_type": "code",
   "execution_count": 3,
   "metadata": {},
   "outputs": [],
   "source": [
    "def count_frames(path):\n",
    "    # grab a pointer to the video file and initialize the total\n",
    "    # number of frames read\n",
    "    video = cv2.VideoCapture(path)\n",
    "\n",
    "    total = int(video.get(cv2.CAP_PROP_FRAME_COUNT))\n",
    "\n",
    "\n",
    "    # release the video file pointer\n",
    "    video.release()\n",
    "\n",
    "    # return the total number of frames in the video\n",
    "    return total"
   ]
  },
  {
   "cell_type": "code",
   "execution_count": 61,
   "metadata": {},
   "outputs": [
    {
     "name": "stdout",
     "output_type": "stream",
     "text": [
      "/Volumes/VISSS_data_HD1/master_data/mosaic/visss1_visss_master_S1145792/data/\n",
      "master_S1145792 201907 <xarray.DataArray ()>\n",
      "array(1764) data_availability/data_availability_master_S1145792_201907.nc\n",
      "master_S1145792 201910 <xarray.DataArray ()>\n",
      "array(71910419) data_availability/data_availability_master_S1145792_201910.nc\n",
      "master_S1145792 201911 <xarray.DataArray ()>\n",
      "array(215105351) data_availability/data_availability_master_S1145792_201911.nc\n",
      "master_S1145792 201912 <xarray.DataArray ()>\n",
      "array(112318083) data_availability/data_availability_master_S1145792_201912.nc\n",
      "/Volumes/VISSS_data_HD1/slave_data/mosaic/visss2_visss_slave_S1143155/data/\n",
      "slave_S1143155 201907 <xarray.DataArray ()>\n",
      "array(1128) data_availability/data_availability_slave_S1143155_201907.nc\n",
      "slave_S1143155 201910 <xarray.DataArray ()>\n",
      "array(70879403) data_availability/data_availability_slave_S1143155_201910.nc\n",
      "slave_S1143155 201911 <xarray.DataArray ()>\n",
      "array(165763849) data_availability/data_availability_slave_S1143155_201911.nc\n",
      "slave_S1143155 201912 <xarray.DataArray ()>\n",
      "array(106504158) data_availability/data_availability_slave_S1143155_201912.nc\n"
     ]
    }
   ],
   "source": [
    "for cc, camera in enumerate(cameras):\n",
    "    \n",
    "    pathCam = path%(camera.split('_')[0], cc+1, camera)\n",
    "    print(pathCam)\n",
    "    \n",
    "    years = sorted(glob.glob('%s/*'%pathCam))\n",
    "    years = [year.split('/')[-1] for year in years]\n",
    "    \n",
    "    for year in years:\n",
    "        months = sorted(glob.glob('%s/%s/*'%(pathCam, year)))\n",
    "        months = [month.split('/')[-1] for month in months]\n",
    "\n",
    "\n",
    "        for month in months:\n",
    "            timestamps = []\n",
    "            frameCounts = []\n",
    "            fileSizes = []\n",
    "            \n",
    "            days = sorted(glob.glob('%s/%s/%s/*'%(pathCam, year, month)))\n",
    "            days = [day.split('/')[-1] for day in days]\n",
    "\n",
    "            date = '%s%s'%(year, month)\n",
    "\n",
    "\n",
    "            for day in days:\n",
    "    \n",
    "                fnames = sorted(glob.glob('%s/%s/%s/%s/*mov'%(pathCam, year, month, day)))\n",
    "\n",
    "                for fname in fnames:\n",
    "                    timestamp = fname.split('_')[-1].split('.')[0]\n",
    "                    timestamps.append(pd.to_datetime(timestamp, format='%Y%m%d-%H%M%S'))\n",
    "                    frameCounts.append(count_frames(fname))\n",
    "                    fileSizes.append(np.round(os.path.getsize(fname)/1024/1024, 2))\n",
    "                    \n",
    "            frameCounts = xr.DataArray(frameCounts, dims=['time'], coords= [timestamps])\n",
    "            fileSizes = xr.DataArray(fileSizes, dims=['time'], coords= [timestamps])\n",
    "\n",
    "            statDat = xr.Dataset({\n",
    "                'nFrames' : frameCounts, \n",
    "                'fileSize' : fileSizes, \n",
    "            })\n",
    "\n",
    "            fOut = 'data_availability/data_availability_%s_%s.nc'%(camera, date)\n",
    "            statDat.to_netcdf(fOut)\n",
    "            \n",
    "            print(camera, date, frameCounts.sum(), fOut)\n"
   ]
  },
  {
   "cell_type": "code",
   "execution_count": 59,
   "metadata": {},
   "outputs": [
    {
     "data": {
      "text/plain": [
       "3.25"
      ]
     },
     "execution_count": 59,
     "metadata": {},
     "output_type": "execute_result"
    }
   ],
   "source": [
    "fileSizes"
   ]
  },
  {
   "cell_type": "code",
   "execution_count": 4,
   "metadata": {},
   "outputs": [],
   "source": [
    "fname = '/Volumes/VISSS_data_HD1/master_data/mosaic/visss1_visss_master_S1145792/data//2019/10/27/visss1_visss_master_S1145792_20191027-090500.mov'"
   ]
  },
  {
   "cell_type": "code",
   "execution_count": 62,
   "metadata": {},
   "outputs": [
    {
     "ename": "AttributeError",
     "evalue": "module 'cv2' has no attribute 'CAP_PROP'",
     "output_type": "error",
     "traceback": [
      "\u001b[0;31m---------------------------------------------------------------------------\u001b[0m",
      "\u001b[0;31mAttributeError\u001b[0m                            Traceback (most recent call last)",
      "\u001b[0;32m<ipython-input-62-e45e4e215009>\u001b[0m in \u001b[0;36m<module>\u001b[0;34m\u001b[0m\n\u001b[0;32m----> 1\u001b[0;31m \u001b[0mcv2\u001b[0m\u001b[0;34m.\u001b[0m\u001b[0mCAP_PROP\u001b[0m\u001b[0;34m\u001b[0m\u001b[0;34m\u001b[0m\u001b[0m\n\u001b[0m",
      "\u001b[0;31mAttributeError\u001b[0m: module 'cv2' has no attribute 'CAP_PROP'"
     ]
    }
   ],
   "source": [
    "cv2.CAP_PROP"
   ]
  },
  {
   "cell_type": "code",
   "execution_count": 5,
   "metadata": {},
   "outputs": [
    {
     "data": {
      "text/plain": [
       "41999.0"
      ]
     },
     "execution_count": 5,
     "metadata": {},
     "output_type": "execute_result"
    }
   ],
   "source": [
    "video = cv2.VideoCapture(fname)\n",
    "\n",
    "total = int(video.get(cv2.CAP_PROP_FRAME_COUNT))\n",
    "\n",
    "video.get(cv2.CAP_PROP_FRAME_COUNT)\n"
   ]
  },
  {
   "cell_type": "code",
   "execution_count": 12,
   "metadata": {},
   "outputs": [
    {
     "data": {
      "text/plain": [
       "828601953.0"
      ]
     },
     "execution_count": 12,
     "metadata": {},
     "output_type": "execute_result"
    }
   ],
   "source": [
    "video.get(cv2.CAP_PROP_)\n",
    "\n"
   ]
  },
  {
   "cell_type": "code",
   "execution_count": null,
   "metadata": {},
   "outputs": [],
   "source": []
  }
 ],
 "metadata": {
  "kernelspec": {
   "display_name": "Python [conda env:py36]",
   "language": "python",
   "name": "conda-env-py36-py"
  },
  "language_info": {
   "codemirror_mode": {
    "name": "ipython",
    "version": 3
   },
   "file_extension": ".py",
   "mimetype": "text/x-python",
   "name": "python",
   "nbconvert_exporter": "python",
   "pygments_lexer": "ipython3",
   "version": "3.6.7"
  },
  "toc": {
   "base_numbering": 1,
   "nav_menu": {},
   "number_sections": true,
   "sideBar": true,
   "skip_h1_title": false,
   "title_cell": "Table of Contents",
   "title_sidebar": "Contents",
   "toc_cell": false,
   "toc_position": {},
   "toc_section_display": true,
   "toc_window_display": false
  }
 },
 "nbformat": 4,
 "nbformat_minor": 2
}
